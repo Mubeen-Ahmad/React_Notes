{
 "cells": [
  {
   "cell_type": "markdown",
   "id": "8f465850-6ade-4d5d-92d9-479e7e43d02b",
   "metadata": {},
   "source": [
    "# State Hooks"
   ]
  },
  {
   "cell_type": "markdown",
   "id": "39b39b55-61f1-46bf-9ba7-44e4f918679a",
   "metadata": {},
   "source": [
    "# 2 Types ky State Hooks hn\n",
    "\n",
    "- ## 1 useState\n",
    "\n",
    "- ## 2 useReducer\n"
   ]
  },
  {
   "cell_type": "markdown",
   "id": "69fe6ba3-7edd-496c-8b23-f29dba2f5212",
   "metadata": {
    "tags": []
   },
   "source": [
    "* # useState\n",
    "\n",
    "- ### Simple state ke liye best.\n",
    "\n",
    "<br>\n",
    "\n",
    "- ## Syntax\n",
    "\n",
    "    - ## ``` const [value, setValue] = useState(initialValue); ```\n",
    "\n",
    "<br>\n",
    "\n",
    "- ### value me data ki value assign ki jati hn\n",
    "\n",
    "- ### setValue function hota hn to value ko update karta hn"
   ]
  },
  {
   "cell_type": "markdown",
   "id": "b0d271e3-60a6-471f-9f33-3b99621d4ce4",
   "metadata": {},
   "source": [
    "# Example"
   ]
  },
  {
   "cell_type": "markdown",
   "id": "5f9c3dd0-71eb-4991-b4ac-fef054373ac5",
   "metadata": {},
   "source": [
    "```\n",
    "    // ./components/1_state_Hook.js\n",
    "\n",
    "import { useState } from 'react';\n",
    "\n",
    "export default function US_ST(){\n",
    "\n",
    "      const initialState = { count: 0, step: 1 };\n",
    "      const [value, setCount] = useState(initialState);\n",
    "\n",
    "    return (\n",
    "\n",
    "      <div>\n",
    "        <p> -> Count: {value.count}</p>\n",
    "        <p> -> Step: {value.step}</p>\n",
    "\n",
    "\n",
    "        <button onClick={() =>\n",
    "            setCount({ count: value.count + value.step, step: value.step })}>\n",
    "            Increment\n",
    "            </button>\n",
    "\n",
    "\n",
    "\n",
    "        <button onClick={() =>\n",
    "          setCount({ count: value.count - value.step, step: value.step })}>\n",
    "          Decrement<\n",
    "          /button>\n",
    "\n",
    "        <br />\n",
    "\n",
    "        <label htmlFor=\"step\">Step</label>\n",
    "\n",
    "        <input\n",
    "          type=\"text\"\n",
    "          id=\"step\"\n",
    "          onChange={(e) =>\n",
    "          setCount({ count: value.count, step: parseInt(e.target.value) || 1 })}\n",
    "        />\n",
    "      </div>\n",
    "    );\n",
    "  }\n",
    "\n",
    "```"
   ]
  },
  {
   "cell_type": "markdown",
   "id": "cb08bbd8-f759-44ce-90bf-9b7ae1da3667",
   "metadata": {
    "tags": []
   },
   "source": [
    "# html Code\n",
    "\n",
    "<div>\n",
    "  <p> -> Count: {value.count}</p>\n",
    "  <p> -> Step: {value.step}</p>\n",
    "\n",
    "<button \n",
    "    onclick=\"setCount({ count: value.count + value.step, step: value.step })\">\n",
    "Increment\n",
    "</button>\n",
    "\n",
    "<button \n",
    "    onclick=\"setCount({ count: value.count - value.step, step: value.step })\">\n",
    "Decrement\n",
    "</button>\n",
    "\n",
    "  <br />\n",
    "\n",
    "<label for=\"step\">Step</label>\n",
    "<input \n",
    "    type=\"text\" \n",
    "    id=\"step\" \n",
    "    onchange=\"setCount({ count: value.count, step: parseInt(e.target.value) || 1 })\"\n",
    "  />\n",
    "\n",
    "</div>"
   ]
  },
  {
   "cell_type": "markdown",
   "id": "bfc1239f-8435-47d1-90a7-7d222648392f",
   "metadata": {},
   "source": [
    "## Yeh code ek simple counter component banata hai jo:\n",
    "\n",
    "## - **useState** se `count` aur `step` ko handle karta hai.\n",
    "\n",
    "## - **Increment/Decrement** buttons se count ko step ke mutabiq increase/decrease karta hai.\n",
    "\n",
    "## - **Step Input** se user manually step ki value set kar sakta hai.\n",
    "\n",
    "<hr>\n"
   ]
  },
  {
   "cell_type": "markdown",
   "id": "41466e42-5f47-4395-b8e1-97174b30ec10",
   "metadata": {},
   "source": [
    "# useReducer\n",
    "\n",
    "- ## Complex aur Multiple Logics ky liye best hy\n",
    "\n",
    "# Syntax\n",
    "\n",
    "- ## ` const [value, action] = useReducer(reducer, initialState); `\n"
   ]
  },
  {
   "cell_type": "markdown",
   "id": "89aae6d2-b349-4261-af6b-8eb8c93bc775",
   "metadata": {},
   "source": [
    "# Example\n"
   ]
  },
  {
   "cell_type": "markdown",
   "id": "f0a5d420-84a1-4bef-8775-4b2776a07900",
   "metadata": {},
   "source": [
    "```\n",
    "import React, { useReducer } from 'react';\n",
    "\n",
    "\n",
    "function reducer(value, action) {\n",
    "\n",
    "  if(action.type === \"increment\") {\n",
    "    return {count:value.count + value.step, step:value.step}\n",
    "    }\n",
    "\n",
    "  else if(action.type === \"decrement\") {\n",
    "    return {count:value.count - value.step, step:value.step}\n",
    "    }\n",
    "\n",
    "  else if(action.type === \"changeStep\") {\n",
    "    return {count:value.count, step:action.payload}\n",
    "    }\n",
    "\n",
    "  else { return value }\n",
    "\n",
    "}\n",
    "\n",
    "export default function USE_ST() {\n",
    "\n",
    "\n",
    "  const initialState = { count: 0, step: 1 };\n",
    "  const [value, action] = useReducer(reducer, initialState);\n",
    "\n",
    "  return (\n",
    "\n",
    "    <div>\n",
    "      <p> -> Count: {value.count}</p>\n",
    "      <p> -> Step: {value.step}</p>\n",
    "\n",
    "      <button onClick={() =>\n",
    "        action({ type: 'increment' })}>\n",
    "        Increment</button>\n",
    "\n",
    "      <button onClick={() =>\n",
    "        action({ type: 'decrement' })}>\n",
    "        Decrement</button>\n",
    "\n",
    "      <br />\n",
    "\n",
    "      <label htmlFor=\"step\">Step</label>\n",
    "\n",
    "      <input\n",
    "        onChange={(e) =>\n",
    "            action(\n",
    "              {\n",
    "                type: 'changeStep',\n",
    "                payload: parseInt(e.target.value)\n",
    "              })\n",
    "              }\n",
    "\n",
    "      />\n",
    "    </div>\n",
    "  );\n",
    "}\n",
    "\n",
    "```\n"
   ]
  },
  {
   "cell_type": "markdown",
   "id": "470f542f-b61f-4d0b-87ae-d310e5f36d00",
   "metadata": {},
   "source": [
    "# html Code\n",
    "\n",
    "<div>\n",
    "  <p> -> Count: {value.count}</p>\n",
    "  <p> -> Step: {value.step}</p>\n",
    "\n",
    "<button \n",
    "    onclick=\"setCount({ count: value.count + value.step, step: value.step })\">\n",
    "Increment\n",
    "</button>\n",
    "\n",
    "<button \n",
    "    onclick=\"setCount({ count: value.count - value.step, step: value.step })\">\n",
    "Decrement\n",
    "</button>\n",
    "\n",
    "  <br />\n",
    "\n",
    "<label for=\"step\">Step</label>\n",
    "<input \n",
    "    type=\"text\" \n",
    "    id=\"step\" \n",
    "    onchange=\"setCount({ count: value.count, step: parseInt(e.target.value) || 1 })\"\n",
    "  />\n",
    "\n",
    "</div>\n"
   ]
  },
  {
   "cell_type": "markdown",
   "id": "59f60545-0377-49ad-95a0-4da439acc0e9",
   "metadata": {},
   "source": [
    "## Yeh code ek counter component hai jo **useReducer** ka use karta hai state aur actions manage karne ke liye:\n",
    "\n",
    "### - `reducer` function state update karne ka logic handle karta hai.\n",
    "\n",
    "###  - `increment` aur `decrement` actions count ko increase ya decrease karte hain.\n",
    "\n",
    "### - `changeStep` action step value ko update karta hai.\n",
    "\n",
    "### - **Buttons** `increment` aur `decrement` ke liye actions dispatch karte hain.\n",
    "\n",
    "### - **Input field** user se step value le kar usko update karne ke liye `changeStep` action dispatch karta hai.\n",
    "\n",
    "<hr>"
   ]
  },
  {
   "cell_type": "markdown",
   "id": "036d6d4d-8246-4a04-ad2f-e483d9b3fbe7",
   "metadata": {},
   "source": [
    "# Use Case\n",
    "\n",
    "- ### **useState**: Simple state management ke liye, jab state transitions straightforward hoon (jaise single values update karna).\n",
    "\n",
    "- ### **useReducer**: Jab complex state logic ho, multiple state values update karni hoon, ya actions based updates hoon (jaise form handling ya counters with multiple actions).\n"
   ]
  }
 ],
 "metadata": {
  "kernelspec": {
   "display_name": "Python 3 (ipykernel)",
   "language": "python",
   "name": "python3"
  },
  "language_info": {
   "codemirror_mode": {
    "name": "ipython",
    "version": 3
   },
   "file_extension": ".py",
   "mimetype": "text/x-python",
   "name": "python",
   "nbconvert_exporter": "python",
   "pygments_lexer": "ipython3",
   "version": "3.10.12"
  }
 },
 "nbformat": 4,
 "nbformat_minor": 5
}
