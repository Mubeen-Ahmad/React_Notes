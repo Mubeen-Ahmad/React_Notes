{
 "cells": [
  {
   "cell_type": "markdown",
   "id": "c4da92b5-d694-4fc3-98e2-7d4ce1b3a6d9",
   "metadata": {
    "tags": []
   },
   "source": [
    "# State Hooks\n"
   ]
  },
  {
   "cell_type": "markdown",
   "id": "0fac0131-b7fa-4448-96ee-92c5f5901ca4",
   "metadata": {
    "tags": []
   },
   "source": [
    "# 2 Types ky State Hooks hn\n",
    "\n",
    "- ## 1 useState\n",
    "\n",
    "- ## 2 useReducer\n",
    "\n"
   ]
  },
  {
   "cell_type": "markdown",
   "id": "e065e5ff-e7f3-48be-ae91-50da0b30b98f",
   "metadata": {
    "tags": []
   },
   "source": [
    "# useState\n",
    "\n",
    "- ### Simple state ke liye best.\n",
    "\n",
    "- ## Syntax\n",
    "\n",
    "```\n",
    "const [value, setValue] = useState(initialValue);\n",
    "```\n",
    "\n"
   ]
  },
  {
   "cell_type": "markdown",
   "id": "99232673-5e15-4a17-97be-525cdc5ebf43",
   "metadata": {},
   "source": [
    "- ### value me data ki value assign ki jati hn\n",
    "\n",
    "- ### setValue function hota hn to value ko update karta hn\n",
    "\n",
    "# Example\n",
    "\n",
    "```\n",
    "// ./components/1_state_Hook.js\n",
    "\n",
    "import { useState } from 'react';\n",
    "\n",
    "export default function US_ST(){\n",
    "\n",
    "      const initialState = { count: 0, step: 1 };\n",
    "      const [value, setCount] = useState(initialState);\n",
    "\n",
    "    return (\n",
    "\n",
    "      <div>\n",
    "        <p> -> Count: {value.count}</p>\n",
    "        <p> -> Step: {value.step}</p>\n",
    "\n",
    "\n",
    "        <button onClick={() =>\n",
    "            setCount({ count: value.count + value.step, step: value.step })}>\n",
    "            Increment\n",
    "            </button>\n",
    "\n",
    "\n",
    "\n",
    "        <button onClick={() =>\n",
    "          setCount({ count: value.count - value.step, step: value.step })}>\n",
    "          Decrement<\n",
    "          /button>\n",
    "\n",
    "        <br />\n",
    "\n",
    "        <label htmlFor=\"step\">Step</label>\n",
    "\n",
    "        <input\n",
    "          type=\"text\"\n",
    "          id=\"step\"\n",
    "          onChange={(e) =>\n",
    "          setCount({ count: value.count, step: parseInt(e.target.value) || 1 })}\n",
    "        />\n",
    "      </div>\n",
    "    );\n",
    "  }\n",
    "\n",
    "```\n",
    "\n"
   ]
  },
  {
   "cell_type": "markdown",
   "id": "d7fc7e86-f57c-4383-ad59-acaa4f18e21a",
   "metadata": {
    "tags": []
   },
   "source": [
    "# html Preview"
   ]
  },
  {
   "cell_type": "markdown",
   "id": "fb07e57c-cc9b-4ca3-8de1-6c4d3253272b",
   "metadata": {},
   "source": [
    "<div style=\"background-color:black; color:white; margin-left:5%; max-width:50%; font-weight:bold;\">\n",
    "  <p> -> Count: 0</p>\n",
    "  <p> -> Step: 1</p> \n",
    "    <button onclick=\"setCount({ count: value.count + value.step, step: value.step })\">Increment\n",
    "</button>\n",
    "    <button \n",
    "    onclick=\"setCount({ count: value.count - value.step, step: value.step })\">\n",
    "Decrement\n",
    "</button>\n",
    "\n",
    "  <br/>\n",
    "\n",
    "<label for=\"step\">Step</label>\n",
    "<input type=\"text\" value=\"1\" disabled=false/>\n",
    "</div>"
   ]
  }
 ],
 "metadata": {
  "kernelspec": {
   "display_name": "Python 3 (ipykernel)",
   "language": "python",
   "name": "python3"
  },
  "language_info": {
   "codemirror_mode": {
    "name": "ipython",
    "version": 3
   },
   "file_extension": ".py",
   "mimetype": "text/x-python",
   "name": "python",
   "nbconvert_exporter": "python",
   "pygments_lexer": "ipython3",
   "version": "3.10.12"
  }
 },
 "nbformat": 4,
 "nbformat_minor": 5
}
